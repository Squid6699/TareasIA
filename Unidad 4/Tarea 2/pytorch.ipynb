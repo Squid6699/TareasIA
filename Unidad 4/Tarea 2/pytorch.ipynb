{
 "cells": [
  {
   "cell_type": "code",
   "execution_count": 7,
   "id": "e79f27e7",
   "metadata": {},
   "outputs": [],
   "source": [
    "import torch\n",
    "import torch.nn as nn\n",
    "import torch.optim as optim\n",
    "from torchvision import datasets, transforms, models\n",
    "from torch.utils.data import DataLoader\n",
    "import os"
   ]
  },
  {
   "cell_type": "markdown",
   "id": "db68d5a7",
   "metadata": {},
   "source": [
    "### PRE-PROCESAR LAS IMAGENES"
   ]
  },
  {
   "cell_type": "code",
   "execution_count": null,
   "id": "eb33bed3",
   "metadata": {},
   "outputs": [],
   "source": [
    "# Transformaciones para normalizar e igualar tamaño\n",
    "transform = transforms.Compose([\n",
    "    transforms.Grayscale(num_output_channels=1),  # Si las imágenes son en escala de grises\n",
    "    transforms.Resize((48, 48)),                  # Tamaño común en FER-2013\n",
    "    transforms.RandomRotation(20),                # Rotación aleatoria para aumentar la variabilidad\n",
    "    transforms.ColorJitter(brightness=(0.8, 1.2)), # Ajuste de brillo\n",
    "    transforms.ToTensor(),\n",
    "    transforms.Normalize((0.5,), (0.5,))\n",
    "])"
   ]
  },
  {
   "cell_type": "code",
   "execution_count": null,
   "id": "7b113ce7",
   "metadata": {},
   "outputs": [],
   "source": [
    "data_dir = '../Tarea 1/dataset'"
   ]
  },
  {
   "cell_type": "markdown",
   "id": "76faf545",
   "metadata": {},
   "source": [
    "### Cargar los datasets"
   ]
  },
  {
   "cell_type": "code",
   "execution_count": 37,
   "id": "2ddaafff",
   "metadata": {},
   "outputs": [],
   "source": [
    "train_dataset = datasets.ImageFolder(os.path.join(data_dir, 'train'), transform=transform)\n",
    "test_dataset = datasets.ImageFolder(os.path.join(data_dir, 'test'), transform=transform)\n",
    "\n",
    "train_loader = DataLoader(train_dataset, batch_size=64, shuffle=True)\n",
    "test_loader = DataLoader(test_dataset, batch_size=64, shuffle=False)\n"
   ]
  },
  {
   "cell_type": "markdown",
   "id": "c7ae6c42",
   "metadata": {},
   "source": [
    "#### Muestra de clases"
   ]
  },
  {
   "cell_type": "code",
   "execution_count": 38,
   "id": "22387b7e",
   "metadata": {},
   "outputs": [
    {
     "name": "stdout",
     "output_type": "stream",
     "text": [
      "Clases: ['angry', 'disgust', 'happy', 'sad', 'surprise']\n"
     ]
    }
   ],
   "source": [
    "# Clases\n",
    "classes = train_dataset.classes\n",
    "print(f\"Clases: {classes}\")"
   ]
  },
  {
   "cell_type": "markdown",
   "id": "4f0a85a9",
   "metadata": {},
   "source": [
    "### Inicializar el modelo, la función de pérdida y el optimizador"
   ]
  },
  {
   "cell_type": "code",
   "execution_count": 39,
   "id": "c4daed7d",
   "metadata": {},
   "outputs": [],
   "source": [
    "class EmotionCNN(nn.Module):\n",
    "    def __init__(self, num_classes=5):\n",
    "        super(EmotionCNN, self).__init__()\n",
    "        self.conv = nn.Sequential(\n",
    "            nn.Conv2d(1, 32, kernel_size=3, padding=1),\n",
    "            nn.ReLU(),\n",
    "            nn.MaxPool2d(2),\n",
    "\n",
    "            nn.Conv2d(32, 64, kernel_size=3, padding=1),\n",
    "            nn.ReLU(),\n",
    "            nn.MaxPool2d(2),\n",
    "\n",
    "            nn.Conv2d(64, 128, kernel_size=3, padding=1),\n",
    "            nn.ReLU(),\n",
    "            nn.MaxPool2d(2)\n",
    "        )\n",
    "        self.fc = nn.Sequential(\n",
    "            nn.Flatten(),\n",
    "            nn.Linear(128 * 6 * 6, 256),\n",
    "            nn.ReLU(),\n",
    "            nn.Dropout(0.5),\n",
    "            nn.Linear(256, num_classes)\n",
    "        )\n",
    "\n",
    "    def forward(self, x):\n",
    "        x = self.conv(x)\n",
    "        x = self.fc(x)\n",
    "        return x\n",
    "\n"
   ]
  },
  {
   "cell_type": "markdown",
   "id": "6fb1cba8",
   "metadata": {},
   "source": [
    "### Entrenamiento del modelo"
   ]
  },
  {
   "cell_type": "code",
   "execution_count": 40,
   "id": "1656c5d7",
   "metadata": {},
   "outputs": [
    {
     "name": "stdout",
     "output_type": "stream",
     "text": [
      "Época 1, pérdida: 1.2426\n",
      "Época 2, pérdida: 0.9520\n",
      "Época 3, pérdida: 0.8262\n",
      "Época 4, pérdida: 0.7387\n",
      "Época 5, pérdida: 0.6624\n",
      "Época 6, pérdida: 0.5994\n",
      "Época 7, pérdida: 0.5343\n",
      "Época 8, pérdida: 0.4764\n",
      "Época 9, pérdida: 0.4084\n",
      "Época 10, pérdida: 0.3586\n",
      "Época 11, pérdida: 0.3092\n",
      "Época 12, pérdida: 0.2761\n",
      "Época 13, pérdida: 0.2305\n",
      "Época 14, pérdida: 0.2060\n",
      "Época 15, pérdida: 0.1861\n"
     ]
    }
   ],
   "source": [
    "device = torch.device(\"cuda\" if torch.cuda.is_available() else \"cpu\")\n",
    "\n",
    "model = EmotionCNN(num_classes=len(train_dataset.classes)).to(device)\n",
    "criterion = nn.CrossEntropyLoss()\n",
    "optimizer = optim.Adam(model.parameters(), lr=0.001)\n",
    "\n",
    "# Entrenar por 15 épocas\n",
    "for epoch in range(15):\n",
    "    model.train()\n",
    "    running_loss = 0.0\n",
    "    for images, labels in train_loader:\n",
    "        images, labels = images.to(device), labels.to(device)\n",
    "\n",
    "        outputs = model(images)\n",
    "        loss = criterion(outputs, labels)\n",
    "\n",
    "        optimizer.zero_grad()\n",
    "        loss.backward()\n",
    "        optimizer.step()\n",
    "\n",
    "        running_loss += loss.item()\n",
    "\n",
    "    print(f\"Época {epoch+1}, pérdida: {running_loss/len(train_loader):.4f}\")"
   ]
  },
  {
   "cell_type": "markdown",
   "id": "1a140bd0",
   "metadata": {},
   "source": [
    "### Guardar el modelo"
   ]
  },
  {
   "cell_type": "code",
   "execution_count": 42,
   "id": "24c71b19",
   "metadata": {},
   "outputs": [],
   "source": [
    "torch.save(model.state_dict(), \"modelo_emociones.pth\")"
   ]
  },
  {
   "cell_type": "markdown",
   "id": "846508a6",
   "metadata": {},
   "source": [
    "### CARGAR MODELO (Por si ya hay uno guardado)"
   ]
  },
  {
   "cell_type": "code",
   "execution_count": null,
   "id": "ce451b1e",
   "metadata": {},
   "outputs": [],
   "source": [
    "# Cargar modelo\n",
    "device = torch.device(\"cuda\" if torch.cuda.is_available() else \"cpu\")\n",
    "\n",
    "num_classes = 5  # Asegúrate de que sea correcto\n",
    "model = EmotionCNN(num_classes=num_classes)\n",
    "model.load_state_dict(torch.load(\"modelo_emociones.pth\", map_location=torch.device(\"cpu\")))  # Usa \"cuda\" si tienes GPU\n",
    "model.eval()\n",
    "model.to(device)"
   ]
  },
  {
   "cell_type": "markdown",
   "id": "f6159cf7",
   "metadata": {},
   "source": [
    "### Ver precision del modelo"
   ]
  },
  {
   "cell_type": "code",
   "execution_count": 41,
   "id": "05a09fd0",
   "metadata": {},
   "outputs": [
    {
     "name": "stdout",
     "output_type": "stream",
     "text": [
      "Precisión en el conjunto de prueba: 72.99%\n"
     ]
    }
   ],
   "source": [
    "model.eval()\n",
    "correct = 0\n",
    "total = 0\n",
    "with torch.no_grad():\n",
    "    for images, labels in test_loader:\n",
    "        images, labels = images.to(device), labels.to(device)\n",
    "        outputs = model(images)\n",
    "        _, predicted = torch.max(outputs.data, 1)\n",
    "        total += labels.size(0)\n",
    "        correct += (predicted == labels).sum().item()\n",
    "\n",
    "print(f'Precisión en el conjunto de prueba: {100 * correct / total:.2f}%')"
   ]
  },
  {
   "cell_type": "markdown",
   "id": "ccf0ece2",
   "metadata": {},
   "source": [
    "### Probar modelo con imagenes"
   ]
  },
  {
   "cell_type": "code",
   "execution_count": 46,
   "id": "875e4a7e",
   "metadata": {},
   "outputs": [
    {
     "name": "stdout",
     "output_type": "stream",
     "text": [
      "Emoción detectada: happy\n"
     ]
    }
   ],
   "source": [
    "import cv2\n",
    "import torch\n",
    "from torchvision import transforms\n",
    "from PIL import Image\n",
    "\n",
    "# Asegúrate de tener el modelo cargado y en modo evaluación\n",
    "model.eval()\n",
    "model.to(device)\n",
    "\n",
    "# Transformación igual que en entrenamiento\n",
    "transform = transforms.Compose([\n",
    "    transforms.Grayscale(num_output_channels=1),\n",
    "    transforms.Resize((48, 48)),\n",
    "    transforms.ToTensor(),\n",
    "    transforms.Normalize((0.5,), (0.5,))\n",
    "])\n",
    "\n",
    "# Clases\n",
    "classes = train_dataset.classes\n",
    "\n",
    "# Ruta de la imagen\n",
    "img_path = \"prueba.jpg\"\n",
    "\n",
    "# Cargar imagen y convertir a escala de grises\n",
    "img = cv2.imread(img_path)\n",
    "gray = cv2.cvtColor(img, cv2.COLOR_BGR2GRAY)\n",
    "\n",
    "# Opcional: detectar rostro y recortar\n",
    "face_cascade = cv2.CascadeClassifier(cv2.data.haarcascades + 'haarcascade_frontalface_default.xml')\n",
    "faces = face_cascade.detectMultiScale(gray, 1.3, 5)\n",
    "\n",
    "if len(faces) == 0:\n",
    "    print(\"No se detectaron rostros.\")\n",
    "else:\n",
    "    for (x, y, w, h) in faces:\n",
    "        roi = gray[y:y+h, x:x+w]\n",
    "        roi = cv2.resize(roi, (48, 48))\n",
    "        roi = Image.fromarray(roi)\n",
    "\n",
    "        # Preprocesar y pasar al modelo\n",
    "        input_tensor = transform(roi).unsqueeze(0).to(device)\n",
    "\n",
    "        with torch.no_grad():\n",
    "            output = model(input_tensor)\n",
    "            _, predicted = torch.max(output, 1)\n",
    "            emotion = classes[predicted.item()]\n",
    "            print(f\"Emoción detectada: {emotion}\")\n"
   ]
  },
  {
   "cell_type": "markdown",
   "id": "7f1ded04",
   "metadata": {},
   "source": [
    "### Probar modelo con camara"
   ]
  },
  {
   "cell_type": "code",
   "execution_count": 24,
   "id": "441a7f28",
   "metadata": {},
   "outputs": [],
   "source": [
    "import cv2\n",
    "import torch\n",
    "import numpy as np\n",
    "from torchvision import transforms\n",
    "from PIL import Image\n",
    "\n",
    "device = torch.device(\"cuda\" if torch.cuda.is_available() else \"cpu\")\n",
    "\n",
    "model.eval()\n",
    "model.to(device)\n",
    "\n",
    "transform = transforms.Compose([\n",
    "    transforms.Grayscale(num_output_channels=1),\n",
    "    transforms.Resize((48, 48)),\n",
    "    transforms.ToTensor(),\n",
    "    transforms.Normalize((0.5,), (0.5,))\n",
    "])\n",
    "\n",
    "classes = ['angry', 'disgust', 'happy', 'sad', 'surprise']\n",
    "\n",
    "cap = cv2.VideoCapture(0)\n",
    "face_cascade = cv2.CascadeClassifier(cv2.data.haarcascades + 'haarcascade_frontalface_default.xml')  # ¡Solo una vez!\n",
    "\n",
    "while True:\n",
    "    ret, frame = cap.read()\n",
    "    if not ret:\n",
    "        break\n",
    "\n",
    "    gray = cv2.cvtColor(frame, cv2.COLOR_BGR2GRAY)\n",
    "    faces = face_cascade.detectMultiScale(gray, 1.3, 5)\n",
    "\n",
    "    for (x, y, w, h) in faces:\n",
    "        roi_gray = gray[y:y+h, x:x+w]\n",
    "        roi_resized = cv2.resize(roi_gray, (48, 48))\n",
    "        roi_pil = Image.fromarray(roi_resized)\n",
    "        roi_tensor = transform(roi_pil).unsqueeze(0).to(device)\n",
    "\n",
    "        with torch.no_grad():\n",
    "            output = model(roi_tensor)\n",
    "            _, predicted = torch.max(output, 1)\n",
    "            emotion = classes[predicted.item()]\n",
    "\n",
    "        cv2.rectangle(frame, (x, y), (x+w, y+h), (255, 0, 0), 2)\n",
    "        cv2.putText(frame, emotion, (x, y-10), cv2.FONT_HERSHEY_SIMPLEX, 1, (255, 255, 255), 2)\n",
    "\n",
    "    cv2.imshow('Detector de emociones', frame)\n",
    "\n",
    "    if cv2.waitKey(1) & 0xFF == ord('q'):\n",
    "        break\n",
    "\n",
    "cap.release()\n",
    "cv2.destroyAllWindows()\n"
   ]
  }
 ],
 "metadata": {
  "kernelspec": {
   "display_name": "Python 3",
   "language": "python",
   "name": "python3"
  },
  "language_info": {
   "codemirror_mode": {
    "name": "ipython",
    "version": 3
   },
   "file_extension": ".py",
   "mimetype": "text/x-python",
   "name": "python",
   "nbconvert_exporter": "python",
   "pygments_lexer": "ipython3",
   "version": "3.12.6"
  }
 },
 "nbformat": 4,
 "nbformat_minor": 5
}
