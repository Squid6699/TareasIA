{
 "cells": [
  {
   "cell_type": "markdown",
   "id": "cfba4e4c",
   "metadata": {},
   "source": [
    "NOMBRES:\n",
    " - AMARILLAS AVILES BRAYAN ALEXIS\n",
    " - CUEN ARMENTA ALMA VICTORIA"
   ]
  },
  {
   "cell_type": "markdown",
   "id": "422ac138",
   "metadata": {},
   "source": [
    "## Seleccionar el modelo. \n",
    "Se escogio TensorFlow porque permite entrenar tu propio modelo mediante un dataset.\n",
    "\n",
    "En el etiquetado no se necesito un csv porque al estar estructurado el dataset de la esta manera, el framework\n",
    "de TensorFlow pueden leer las imagenes directamente de la carpeta por su estructura."
   ]
  },
  {
   "cell_type": "markdown",
   "id": "908f41ec",
   "metadata": {},
   "source": [
    "### IMPORTAR LIBRERIAS"
   ]
  },
  {
   "cell_type": "code",
   "execution_count": 7,
   "id": "451bbd0b",
   "metadata": {},
   "outputs": [],
   "source": [
    "import os\n",
    "import tensorflow as tf\n",
    "from tensorflow.keras.preprocessing.image import ImageDataGenerator\n",
    "from tensorflow.keras.preprocessing import image_dataset_from_directory"
   ]
  },
  {
   "cell_type": "markdown",
   "id": "cf0d04ad",
   "metadata": {},
   "source": [
    "### PRE-PROCESAR LAS IMAGENES"
   ]
  },
  {
   "cell_type": "code",
   "execution_count": 2,
   "id": "d116db8d",
   "metadata": {},
   "outputs": [],
   "source": [
    "train_datagen = ImageDataGenerator(\n",
    "    rescale=1./255, # Cambios de escala\n",
    "    rotation_range=20, # Rotación de imágenes\n",
    "    brightness_range=(0.8, 1.2),  # Cambio de intensidad de luz\n",
    "    fill_mode='nearest' # Modo de relleno para bordes\n",
    ")\n",
    "\n",
    "val_datagen = ImageDataGenerator(rescale=1./255)  # Solo normalización para validación"
   ]
  },
  {
   "cell_type": "code",
   "execution_count": 3,
   "id": "c78e9540",
   "metadata": {},
   "outputs": [],
   "source": [
    "# Configurar las rutas\n",
    "train_dir = r\"../Tarea 1/dataset/train\"  # Ruta del dataset de entrenamiento\n",
    "test_dir = r\"../Tarea 1/dataset/test\"  # Ruta del dataset de validación\n"
   ]
  },
  {
   "cell_type": "code",
   "execution_count": 4,
   "id": "0e521f3c",
   "metadata": {},
   "outputs": [],
   "source": [
    "# Parámetros\n",
    "IMG_SIZE = (48, 48)\n",
    "BATCH_SIZE = 32"
   ]
  },
  {
   "cell_type": "code",
   "execution_count": 14,
   "id": "6befb770",
   "metadata": {},
   "outputs": [
    {
     "name": "stdout",
     "output_type": "stream",
     "text": [
      "Found 4921 images belonging to 5 classes.\n",
      "Found 19647 images belonging to 5 classes.\n"
     ]
    }
   ],
   "source": [
    "# Crear generadores y cargar dataset de validación\n",
    "val_generator = val_datagen.flow_from_directory(\n",
    "    test_dir,\n",
    "    target_size=IMG_SIZE, # Tamaño uniforme de imágenes\n",
    "    batch_size=BATCH_SIZE,\n",
    "    class_mode='categorical',  # Modo de clasificación\n",
    ")\n",
    "\n",
    "# Crear generador y cargar dataset de entrenamiento\n",
    "train_generator = train_datagen.flow_from_directory(\n",
    "    train_dir,\n",
    "    target_size=IMG_SIZE, # Tamaño uniforme de imágenes\n",
    "    batch_size=BATCH_SIZE,\n",
    "    class_mode='categorical',  # Modo de clasificación\n",
    "    shuffle=True,  # Mezclar datos\n",
    ")"
   ]
  },
  {
   "cell_type": "code",
   "execution_count": 15,
   "id": "62df9ac4",
   "metadata": {},
   "outputs": [
    {
     "name": "stdout",
     "output_type": "stream",
     "text": [
      "Clases: ['angry', 'disgust', 'happy', 'sad', 'surprise']\n"
     ]
    }
   ],
   "source": [
    "# Ver clases\n",
    "class_names = list(train_generator.class_indices.keys())\n",
    "print(\"Clases:\", class_names)"
   ]
  },
  {
   "cell_type": "markdown",
   "id": "1bc724ab",
   "metadata": {},
   "source": [
    "### ENTRENAMIENTO DEL MODELO"
   ]
  },
  {
   "cell_type": "code",
   "execution_count": 16,
   "id": "9f2efc24",
   "metadata": {},
   "outputs": [
    {
     "name": "stdout",
     "output_type": "stream",
     "text": [
      "[name: \"/device:CPU:0\"\n",
      "device_type: \"CPU\"\n",
      "memory_limit: 268435456\n",
      "locality {\n",
      "}\n",
      "incarnation: 1461161944146436656\n",
      "xla_global_id: -1\n",
      "]\n"
     ]
    }
   ],
   "source": [
    "# Validamos que este CUDA y cuDNN estén disponibles\n",
    "from tensorflow.python.client import device_lib\n",
    "print(device_lib.list_local_devices())"
   ]
  },
  {
   "cell_type": "markdown",
   "id": "c86a5f3b",
   "metadata": {},
   "source": [
    "#### Modelo CNN con Keras"
   ]
  },
  {
   "cell_type": "markdown",
   "id": "f5bc73fb",
   "metadata": {},
   "source": [
    "#### Compilar el modelo"
   ]
  },
  {
   "cell_type": "markdown",
   "id": "dd265244",
   "metadata": {},
   "source": [
    "#### Entrenar el modelo"
   ]
  },
  {
   "cell_type": "markdown",
   "id": "3fa2e04f",
   "metadata": {},
   "source": [
    "#### Guardar el modelo"
   ]
  },
  {
   "cell_type": "markdown",
   "id": "12fe7326",
   "metadata": {},
   "source": [
    "#### (Opcional) Graficar el entrenamiento"
   ]
  }
 ],
 "metadata": {
  "kernelspec": {
   "display_name": "Python 3",
   "language": "python",
   "name": "python3"
  },
  "language_info": {
   "codemirror_mode": {
    "name": "ipython",
    "version": 3
   },
   "file_extension": ".py",
   "mimetype": "text/x-python",
   "name": "python",
   "nbconvert_exporter": "python",
   "pygments_lexer": "ipython3",
   "version": "3.12.5"
  }
 },
 "nbformat": 4,
 "nbformat_minor": 5
}
