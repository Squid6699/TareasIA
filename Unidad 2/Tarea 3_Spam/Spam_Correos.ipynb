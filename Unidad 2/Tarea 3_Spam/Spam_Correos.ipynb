{
 "cells": [
  {
   "cell_type": "markdown",
   "metadata": {},
   "source": [
    "# DETECTOR DE SPAM PARA CORREOS\n",
    "### PROFESOR\n",
    "- ZURIEL DATHAN MORA FELIX \n",
    "### INTEGRANTES \n",
    "- AMARILLAS AVILES BRAYAN ALEXIS \n",
    "- CUEN ARMENTA ALMA VICTORIA \n"
   ]
  },
  {
   "cell_type": "code",
   "execution_count": 3,
   "metadata": {},
   "outputs": [
    {
     "name": "stderr",
     "output_type": "stream",
     "text": [
      "[nltk_data] Downloading package stopwords to\n",
      "[nltk_data]     C:\\Users\\Brayan\\AppData\\Roaming\\nltk_data...\n",
      "[nltk_data]   Package stopwords is already up-to-date!\n"
     ]
    }
   ],
   "source": [
    "import numpy as np \n",
    "import pandas as pd\n",
    "from sklearn.feature_extraction.text import CountVectorizer\n",
    "from sklearn.model_selection import train_test_split\n",
    "from sklearn.naive_bayes import MultinomialNB\n",
    "\n",
    "import nltk\n",
    "from nltk.corpus import stopwords\n",
    "\n",
    "nltk.download('stopwords')\n",
    "\n",
    "import tkinter as tk\n",
    "from tkinter import messagebox\n"
   ]
  },
  {
   "cell_type": "markdown",
   "metadata": {},
   "source": [
    "## 1. IMPORTAR  DATASET"
   ]
  },
  {
   "cell_type": "code",
   "execution_count": 4,
   "metadata": {},
   "outputs": [
    {
     "data": {
      "text/html": [
       "<div>\n",
       "<style scoped>\n",
       "    .dataframe tbody tr th:only-of-type {\n",
       "        vertical-align: middle;\n",
       "    }\n",
       "\n",
       "    .dataframe tbody tr th {\n",
       "        vertical-align: top;\n",
       "    }\n",
       "\n",
       "    .dataframe thead th {\n",
       "        text-align: right;\n",
       "    }\n",
       "</style>\n",
       "<table border=\"1\" class=\"dataframe\">\n",
       "  <thead>\n",
       "    <tr style=\"text-align: right;\">\n",
       "      <th></th>\n",
       "      <th>text</th>\n",
       "      <th>target</th>\n",
       "    </tr>\n",
       "  </thead>\n",
       "  <tbody>\n",
       "    <tr>\n",
       "      <th>0</th>\n",
       "      <td>From ilug-admin@linux.ie Mon Jul 29 11:28:02 2...</td>\n",
       "      <td>0</td>\n",
       "    </tr>\n",
       "    <tr>\n",
       "      <th>1</th>\n",
       "      <td>From gort44@excite.com Mon Jun 24 17:54:21 200...</td>\n",
       "      <td>1</td>\n",
       "    </tr>\n",
       "    <tr>\n",
       "      <th>2</th>\n",
       "      <td>From fork-admin@xent.com Mon Jul 29 11:39:57 2...</td>\n",
       "      <td>1</td>\n",
       "    </tr>\n",
       "    <tr>\n",
       "      <th>3</th>\n",
       "      <td>From dcm123@btamail.net.cn Mon Jun 24 17:49:23...</td>\n",
       "      <td>1</td>\n",
       "    </tr>\n",
       "    <tr>\n",
       "      <th>4</th>\n",
       "      <td>From ilug-admin@linux.ie Mon Aug 19 11:02:47 2...</td>\n",
       "      <td>0</td>\n",
       "    </tr>\n",
       "  </tbody>\n",
       "</table>\n",
       "</div>"
      ],
      "text/plain": [
       "                                                text  target\n",
       "0  From ilug-admin@linux.ie Mon Jul 29 11:28:02 2...       0\n",
       "1  From gort44@excite.com Mon Jun 24 17:54:21 200...       1\n",
       "2  From fork-admin@xent.com Mon Jul 29 11:39:57 2...       1\n",
       "3  From dcm123@btamail.net.cn Mon Jun 24 17:49:23...       1\n",
       "4  From ilug-admin@linux.ie Mon Aug 19 11:02:47 2...       0"
      ]
     },
     "execution_count": 4,
     "metadata": {},
     "output_type": "execute_result"
    }
   ],
   "source": [
    "dataset = pd.read_csv(\"spam_assassin.csv\")\n",
    "dataset.head()"
   ]
  },
  {
   "cell_type": "markdown",
   "metadata": {},
   "source": [
    "## 2. PROCESAMIENTO DE DATOS "
   ]
  },
  {
   "cell_type": "code",
   "execution_count": 5,
   "metadata": {},
   "outputs": [],
   "source": [
    "#Eliminar correos duplicados\n",
    "ds_clean = dataset.drop_duplicates(subset=\"text\").copy()\n",
    "\n",
    "#Convertir a minúsculas\n",
    "ds_clean['text'] = ds_clean['text'].str.lower()\n",
    "\n",
    "#Eliminar caracteres especiales\n",
    "ds_clean['text'] = ds_clean['text'].str.replace('[^a-z0-9\\\\s]', '', regex=True)\n",
    "\n",
    "#Eliminar palabras vacías y stopwords\n",
    "stop_words = set(stopwords.words('english'))\n",
    "ds_clean['text'] = ds_clean['text'].apply(lambda x: ' '.join([word for word in x.split() if word not in (stop_words)]))\n",
    "\n",
    "#Tokenizar el texto\n",
    "ds_clean['text'] = ds_clean['text'].apply(lambda x: x.split())\n"
   ]
  },
  {
   "cell_type": "markdown",
   "metadata": {},
   "source": [
    "## 3. PREPARACIÓN DEL MODELO \n"
   ]
  },
  {
   "cell_type": "code",
   "execution_count": 6,
   "metadata": {},
   "outputs": [],
   "source": [
    "\n",
    "# Dividir el dataset en conjunto de entrenamiento y prueba\n",
    "x_train, x_test, y_train, y_test = train_test_split(ds_clean['text'].apply(lambda x: ' '.join(x)), ds_clean['target'], test_size=0.20, random_state=42)\n",
    "\n",
    "# 2. Inicializar CountVectorizer\n",
    "vectorizer = CountVectorizer() \n",
    "\n",
    "# Ajustar y transformar el conjunto de entrenamiento\n",
    "x_train_tfidf = vectorizer.fit_transform(x_train)\n"
   ]
  },
  {
   "cell_type": "markdown",
   "metadata": {},
   "source": [
    "## ALGORITMO DE BAYES"
   ]
  },
  {
   "cell_type": "code",
   "execution_count": 7,
   "metadata": {},
   "outputs": [
    {
     "name": "stdout",
     "output_type": "stream",
     "text": [
      "[1 1 1 1 1 1 1 1 1 1 1 0 0 0 0 1 1 1 0 0]\n"
     ]
    }
   ],
   "source": [
    "# Inicializar el clasificador Bayes\n",
    "nb = MultinomialNB()\n",
    "\n",
    "# Ajustar el clasificador con el conjunto de entrenamiento\n",
    "nb.fit(x_train_tfidf, y_train)\n",
    "\n",
    "# Prueba del modelo\n",
    "\n",
    "emails = [\n",
    "    \"Congratulations! You've won a free iPhone! Click here to claim your prize.\",\n",
    "    \"Act now and get a limited time offer of 90% off on all products! Hurry, offer expires soon!\",\n",
    "    \"Earn thousands of dollars from home! No experience required, sign up now!\",\n",
    "    \"You have a message from someone you know! Click here to view it.\",\n",
    "    \"Buy cheap Viagra from our website today. Don't miss out on this amazing deal!\",\n",
    "    \"Don't miss this opportunity! Free vacation for you and a friend, just fill out this form!\",\n",
    "    \"Get rich fast by investing in this exclusive cryptocurrency! Join now and make a fortune.\",\n",
    "    \"Hurry! You’re almost out of time to claim your free gift card worth $500! Click here!\",\n",
    "    \"Your bank account has been compromised. Click here to reset your password immediately.\",\n",
    "    \"Join our webinar to learn how to make money fast with zero investment.\",\n",
    "    \"Dear customer, your order has been shipped. Thank you for shopping with us!\",\n",
    "    \"Hello! Just checking in to see how you’re doing with the new software. Let me know if you need any assistance.\",\n",
    "    \"Reminder: Your appointment with Dr. Smith is scheduled for 10 AM tomorrow.\",\n",
    "    \"Hi, I wanted to confirm our meeting for this afternoon. Please let me know if you need to reschedule.\",\n",
    "    \"You’re receiving this email because you signed up for our newsletter. Here's our latest update.\",\n",
    "    \"Your subscription is about to renew. If you wish to make any changes, please visit your account settings.\",\n",
    "    \"Thank you for your purchase! Your receipt is attached for your reference.\",\n",
    "    \"Your payment has been successfully processed. Thank you for choosing our services.\",\n",
    "    \"Hi John, we missed you at the meeting. Here’s the summary of what was discussed.\",\n",
    "    \"You’ve been invited to attend a conference call. The details are attached.\"\n",
    "]\n",
    "\n",
    "emails_count = vectorizer.transform(emails)\n",
    "predictions = nb.predict(emails_count)\n",
    "print(predictions)\n"
   ]
  },
  {
   "cell_type": "markdown",
   "metadata": {},
   "source": [
    "## INTERFAZ"
   ]
  },
  {
   "cell_type": "code",
   "execution_count": 8,
   "metadata": {},
   "outputs": [],
   "source": [
    "def validar():\n",
    "    email = texto_cuerpo.get(\"1.0\", \"end-1c\")\n",
    "    emails = [email]\n",
    "    emails_count = vectorizer.transform(emails)\n",
    "    predictions = nb.predict(emails_count)\n",
    "    if predictions[0] == 1:\n",
    "        messagebox.showinfo(\"Resultado\", \"El correo es spam\")\n",
    "    else:\n",
    "        messagebox.showinfo(\"Resultado\", \"El correo no es spam\")\n",
    "\n",
    "# Crear la ventana principal\n",
    "root = tk.Tk()\n",
    "root.title(\"Enviar Correo\")\n",
    "root.geometry(\"400x300\")\n",
    "\n",
    "# Área de texto para el cuerpo del correo\n",
    "tk.Label(root, text=\"Cuerpo del correo:\").pack(anchor=\"w\", padx=10, pady=5)\n",
    "texto_cuerpo = tk.Text(root, height=5, width=50)\n",
    "texto_cuerpo.pack(padx=10)\n",
    "\n",
    "# Botón de enviar\n",
    "boton_enviar = tk.Button(root, text=\"Enviar\" , command=validar)\n",
    "boton_enviar.pack(pady=10)\n",
    "\n",
    "# Iniciar la aplicación\n",
    "root.mainloop()\n"
   ]
  },
  {
   "cell_type": "markdown",
   "metadata": {},
   "source": [
    "## CALCULAR LA PRECISION DEL MODELO"
   ]
  },
  {
   "cell_type": "code",
   "execution_count": 9,
   "metadata": {},
   "outputs": [
    {
     "data": {
      "text/plain": [
       "0.9681050656660413"
      ]
     },
     "execution_count": 9,
     "metadata": {},
     "output_type": "execute_result"
    }
   ],
   "source": [
    "x_test_count = vectorizer.transform(x_test)\n",
    "nb.score(x_test_count, y_test)"
   ]
  },
  {
   "cell_type": "markdown",
   "metadata": {},
   "source": [
    "## CLASIFICACION DE SPAM"
   ]
  },
  {
   "cell_type": "code",
   "execution_count": 10,
   "metadata": {},
   "outputs": [
    {
     "name": "stdout",
     "output_type": "stream",
     "text": [
      "Presicion:  0.702626641651032\n",
      "Recuperacion:  0.06764705882352941\n"
     ]
    }
   ],
   "source": [
    "# Calcular la probabilidad previa de spam (P(Spam))\n",
    "p_spam = np.sum(ds_clean['target']) / len(ds_clean['target'])\n",
    "\n",
    "#Probabilidad previa de no spam\n",
    "p_no_spam = 1 - p_spam\n",
    "\n",
    "x_train_array = x_train_tfidf.toarray()\n",
    "# Calcular la probabilidad de las caracteristicas del correo electrocnico dado que es spam (P(Correo|Spam))\n",
    "p_caracteristicas_spam = x_train_array[y_train == 1].sum(axis=0) / x_train_array[y_train == 1].sum()\n",
    "# Calcular la probabilidad de las caracteristicas del correo electronico dado que no es spam (P(Correo|No Spam))\n",
    "p_caracteristicas_no_spam = x_train_array[y_train == 0].sum(axis=0) / x_train_array[y_train == 0].sum()\n",
    "\n",
    "# Calcular la probabilidad posterior de que el correo electronico sea spam (P(Spam|Caracteristicas))\n",
    "p_spam_caracteristicas = (p_spam * p_caracteristicas_spam) / (p_spam * p_caracteristicas_spam + p_no_spam * p_caracteristicas_no_spam)\n",
    "\n",
    "# Un correo se clasificara como spam si P(Spam|Caracteristicas) > P(No Spam|Caracteristicas)\n",
    "\n",
    "# Clasificamos los correos del conjunto de prueba\n",
    "clasificacion = []\n",
    "for i in range(x_test_count.shape[0]):\n",
    "    probabilidad_condicional_spam = (p_spam * x_test_count[i].multiply(p_caracteristicas_spam)).sum()\n",
    "    probabilidad_condicional_no_spam = (p_no_spam * x_test_count[i].multiply(p_caracteristicas_no_spam)).sum()\n",
    "    \n",
    "    probabilidad_posterior_spam = probabilidad_condicional_spam / (probabilidad_condicional_spam + probabilidad_condicional_no_spam)\n",
    "    # Si la probabilidad otorga >0.5 es spam, <0.5 no es spam\n",
    "    clasificacion.append(1 if probabilidad_posterior_spam > 0.5 else 0)\n",
    "\n",
    "# Convertimos las clasificaciones a un arreglo de numpy\n",
    "clasificacion = np.array(clasificacion)\n",
    "\n",
    "#Evaluacion\n",
    "precision = np.sum(clasificacion == y_test.values) / len(clasificacion)\n",
    "recuperacion = np.sum(clasificacion[y_test.values == 1] == y_test.values[y_test.values == 1]) / y_test.values.sum()\n",
    "\n",
    "print(\"Presicion: \", precision)\n",
    "print(\"Recuperacion: \", recuperacion)\n",
    "\n"
   ]
  }
 ],
 "metadata": {
  "kernelspec": {
   "display_name": "Python 3",
   "language": "python",
   "name": "python3"
  },
  "language_info": {
   "codemirror_mode": {
    "name": "ipython",
    "version": 3
   },
   "file_extension": ".py",
   "mimetype": "text/x-python",
   "name": "python",
   "nbconvert_exporter": "python",
   "pygments_lexer": "ipython3",
   "version": "3.12.5"
  }
 },
 "nbformat": 4,
 "nbformat_minor": 2
}
