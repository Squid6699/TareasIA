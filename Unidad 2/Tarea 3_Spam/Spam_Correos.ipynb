{
 "cells": [
  {
   "cell_type": "markdown",
   "metadata": {},
   "source": [
    "# DETECTOR DE SPAM PARA CORREOS\n",
    "### PROFESOR\n",
    "- ZURIEL DATHAN MORA FELIX \n",
    "### INTEGRANTES \n",
    "- AMARILLAS AVILES BRAYAN ALEXIS \n",
    "- CUEN ARMENTA ALMA VICTORIA \n"
   ]
  },
  {
   "cell_type": "code",
   "execution_count": 1,
   "metadata": {},
   "outputs": [
    {
     "name": "stderr",
     "output_type": "stream",
     "text": [
      "[nltk_data] Downloading package stopwords to C:\\Users\\Lil\n",
      "[nltk_data]     Squid\\AppData\\Roaming\\nltk_data...\n",
      "[nltk_data]   Package stopwords is already up-to-date!\n"
     ]
    },
    {
     "data": {
      "text/plain": [
       "True"
      ]
     },
     "execution_count": 1,
     "metadata": {},
     "output_type": "execute_result"
    }
   ],
   "source": [
    "import numpy as np \n",
    "import pandas as pd\n",
    "from sklearn.feature_extraction.text import TfidfVectorizer\n",
    "from sklearn.model_selection import train_test_split\n",
    "from sklearn.naive_bayes import MultinomialNB\n",
    "from nltk.corpus import stopwords\n",
    "import nltk\n",
    "nltk.download('stopwords')"
   ]
  },
  {
   "cell_type": "markdown",
   "metadata": {},
   "source": [
    "## 1. IMPORTAR  DATASET"
   ]
  },
  {
   "cell_type": "code",
   "execution_count": 3,
   "metadata": {},
   "outputs": [
    {
     "data": {
      "text/html": [
       "<div>\n",
       "<style scoped>\n",
       "    .dataframe tbody tr th:only-of-type {\n",
       "        vertical-align: middle;\n",
       "    }\n",
       "\n",
       "    .dataframe tbody tr th {\n",
       "        vertical-align: top;\n",
       "    }\n",
       "\n",
       "    .dataframe thead th {\n",
       "        text-align: right;\n",
       "    }\n",
       "</style>\n",
       "<table border=\"1\" class=\"dataframe\">\n",
       "  <thead>\n",
       "    <tr style=\"text-align: right;\">\n",
       "      <th></th>\n",
       "      <th>text</th>\n",
       "      <th>target</th>\n",
       "    </tr>\n",
       "  </thead>\n",
       "  <tbody>\n",
       "    <tr>\n",
       "      <th>0</th>\n",
       "      <td>From ilug-admin@linux.ie Mon Jul 29 11:28:02 2...</td>\n",
       "      <td>0</td>\n",
       "    </tr>\n",
       "    <tr>\n",
       "      <th>1</th>\n",
       "      <td>From gort44@excite.com Mon Jun 24 17:54:21 200...</td>\n",
       "      <td>1</td>\n",
       "    </tr>\n",
       "    <tr>\n",
       "      <th>2</th>\n",
       "      <td>From fork-admin@xent.com Mon Jul 29 11:39:57 2...</td>\n",
       "      <td>1</td>\n",
       "    </tr>\n",
       "    <tr>\n",
       "      <th>3</th>\n",
       "      <td>From dcm123@btamail.net.cn Mon Jun 24 17:49:23...</td>\n",
       "      <td>1</td>\n",
       "    </tr>\n",
       "    <tr>\n",
       "      <th>4</th>\n",
       "      <td>From ilug-admin@linux.ie Mon Aug 19 11:02:47 2...</td>\n",
       "      <td>0</td>\n",
       "    </tr>\n",
       "  </tbody>\n",
       "</table>\n",
       "</div>"
      ],
      "text/plain": [
       "                                                text  target\n",
       "0  From ilug-admin@linux.ie Mon Jul 29 11:28:02 2...       0\n",
       "1  From gort44@excite.com Mon Jun 24 17:54:21 200...       1\n",
       "2  From fork-admin@xent.com Mon Jul 29 11:39:57 2...       1\n",
       "3  From dcm123@btamail.net.cn Mon Jun 24 17:49:23...       1\n",
       "4  From ilug-admin@linux.ie Mon Aug 19 11:02:47 2...       0"
      ]
     },
     "execution_count": 3,
     "metadata": {},
     "output_type": "execute_result"
    }
   ],
   "source": [
    "dataset = pd.read_csv(\"spam_assassin.csv\")\n",
    "dataset.head()"
   ]
  },
  {
   "cell_type": "markdown",
   "metadata": {},
   "source": [
    "## 2. PROCESAMIENTO DE DATOS "
   ]
  },
  {
   "cell_type": "code",
   "execution_count": 4,
   "metadata": {},
   "outputs": [
    {
     "name": "stdout",
     "output_type": "stream",
     "text": [
      "                                                text  target\n",
      "0  [from, ilugadminlinuxie, mon, jul, 29, 112802,...       0\n",
      "1  [from, gort44excitecom, mon, jun, 24, 175421, ...       1\n",
      "2  [from, forkadminxentcom, mon, jul, 29, 113957,...       1\n",
      "3  [from, dcm123btamailnetcn, mon, jun, 24, 17492...       1\n",
      "4  [from, ilugadminlinuxie, mon, aug, 19, 110247,...       0\n"
     ]
    }
   ],
   "source": [
    "#Eliminar correos duplicados\n",
    "ds_clean = dataset.drop_duplicates(subset=\"text\").copy()\n",
    "\n",
    "#Convertir a minúsculas\n",
    "ds_clean['text'] = ds_clean['text'].str.lower()\n",
    "\n",
    "#Eliminar caracteres especiales\n",
    "ds_clean['text'] = ds_clean['text'].str.replace('[^a-z0-9\\\\s]', '', regex=True)\n",
    "\n",
    "#Obtener stopwords en español \n",
    "stop_words_es = set(stopwords.words('spanish'))\n",
    "\n",
    "#Eliminar palabras vacías (stopwords)\n",
    "ds_clean['text'] = ds_clean['text'].apply(lambda x: ' '.join(word for word in x.split() if word not in stop_words_es))\n",
    "\n",
    "#Tokenizar el texto\n",
    "ds_clean['text'] = ds_clean['text'].apply(lambda x: x.split())\n",
    "\n",
    "# Mostrar los primeros registros del dataset limpio\n",
    "print(ds_clean.head())"
   ]
  },
  {
   "cell_type": "markdown",
   "metadata": {},
   "source": [
    "## 3. PREPARACIÓN DEL MODELO \n"
   ]
  },
  {
   "cell_type": "code",
   "execution_count": 5,
   "metadata": {},
   "outputs": [],
   "source": [
    "\n",
    "# Dividir el dataset en conjunto de entrenamiento y prueba\n",
    "x_train, x_test, y_train, y_test = train_test_split(ds_clean['text'].apply(lambda x: ' '.join(x)),  ds_clean['target'], test_size=0.20, random_state=42)\n",
    "\n",
    "# Inicializar TfidfVectorizer\n",
    "vectorizer = TfidfVectorizer()  \n",
    "\n",
    "# Ajustar y transformar el conjunto de entrenamiento\n",
    "x_train_tfidf = vectorizer.fit_transform(x_train)\n"
   ]
  }
 ],
 "metadata": {
  "kernelspec": {
   "display_name": "Python 3",
   "language": "python",
   "name": "python3"
  },
  "language_info": {
   "codemirror_mode": {
    "name": "ipython",
    "version": 3
   },
   "file_extension": ".py",
   "mimetype": "text/x-python",
   "name": "python",
   "nbconvert_exporter": "python",
   "pygments_lexer": "ipython3",
   "version": "3.12.6"
  }
 },
 "nbformat": 4,
 "nbformat_minor": 2
}
